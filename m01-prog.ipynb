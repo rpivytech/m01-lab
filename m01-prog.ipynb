{
 "cells": [
  {
   "cell_type": "code",
   "execution_count": 4,
   "id": "a5869968-2746-422d-94cf-8603f4b4e06c",
   "metadata": {},
   "outputs": [
    {
     "name": "stdout",
     "output_type": "stream",
     "text": [
      "3600\n",
      "86400\n",
      "24.0\n",
      "24\n"
     ]
    }
   ],
   "source": [
    "seconds = int(60)\n",
    "minutes = int(60)\n",
    "seconds_per_hour = int(0)\n",
    "hours_in_a_day = int(24)\n",
    "seconds_per_day = int(0)\n",
    "\n",
    "seconds_per_hour = seconds * minutes\n",
    "print(seconds_per_hour)\n",
    "\n",
    "seconds_per_day = seconds_per_hour * hours_in_a_day\n",
    "print(seconds_per_day)\n",
    "\n",
    "print((seconds_per_day / seconds_per_hour))\n",
    "print((seconds_per_day // seconds_per_hour))"
   ]
  },
  {
   "cell_type": "code",
   "execution_count": null,
   "id": "91fb5e55-d91a-4a9e-a2ab-2d8410ac26a0",
   "metadata": {},
   "outputs": [],
   "source": []
  }
 ],
 "metadata": {
  "kernelspec": {
   "display_name": "Python 3 (ipykernel)",
   "language": "python",
   "name": "python3"
  },
  "language_info": {
   "codemirror_mode": {
    "name": "ipython",
    "version": 3
   },
   "file_extension": ".py",
   "mimetype": "text/x-python",
   "name": "python",
   "nbconvert_exporter": "python",
   "pygments_lexer": "ipython3",
   "version": "3.13.5"
  }
 },
 "nbformat": 4,
 "nbformat_minor": 5
}
