{
 "cells": [
  {
   "cell_type": "code",
   "execution_count": 16,
   "id": "cd15a318-3372-4720-a7c8-cdfea8f512de",
   "metadata": {},
   "outputs": [
    {
     "name": "stdout",
     "output_type": "stream",
     "text": [
      "['mozarella', 'Cinderella', 'salmonella']\n",
      "['MOZARELLA', 'Cinderella', 'salmonella']\n",
      "['MOZARELLA', 'Cinderella']\n"
     ]
    }
   ],
   "source": [
    "'''\n",
    "I do appreciate that these book assignments are short\n",
    "'''\n",
    "\n",
    "things = [\"mozarella\",\"cinderella\",\"salmonella\"]\n",
    "\n",
    "#There's multiple ways to do this but this is the easiest way to capitalize an entry and with fewest lines\n",
    "#If you don't set it to it, nothing will happen (technically it does but it just disappears into the void)\n",
    "things[1] = things[1].title() #capitalize() also works\n",
    "print(things)\n",
    "things[0] = things[0].upper() #all caps\n",
    "print(things)\n",
    "things.remove(\"salmonella\")\n",
    "print(things)\n"
   ]
  },
  {
   "cell_type": "code",
   "execution_count": 27,
   "id": "d34a5a93-1200-44b3-ac72-b4a5b2e14c93",
   "metadata": {},
   "outputs": [
    {
     "name": "stdout",
     "output_type": "stream",
     "text": [
      "5\n"
     ]
    }
   ],
   "source": [
    "def good():\n",
    "    names = ['Harry','Ron','Hermione']\n",
    "    return names\n",
    "\n",
    "def get_odds():\n",
    "    odds = []\n",
    "    for num in range(10): \n",
    "        if num % 2 != 0:\n",
    "            odds.append(num)\n",
    "    return odds\n",
    "\n",
    "# Woops I accidentally just kept doing things rather than just 9.1 and 9.2:\n",
    "'''\n",
    "def test(func):\n",
    "    def new_function():\n",
    "        print(\"Start\", func.__name__)\n",
    "        result = func()\n",
    "        return result\n",
    "'''\n",
    "        \n",
    "if __name__ == \"__main__\":\n",
    "    result = get_odds()\n",
    "    print(result[2]) # this is technically the 'third' value 'returned,' you could do it with a for loop but that seems pointless?\n",
    "    # unless the assignment means to use the for loop to find the odds, which is what I did"
   ]
  },
  {
   "cell_type": "code",
   "execution_count": null,
   "id": "bbd724c9-3d76-4cfa-af91-00db38f3aaa8",
   "metadata": {},
   "outputs": [],
   "source": []
  }
 ],
 "metadata": {
  "kernelspec": {
   "display_name": "Python 3 (ipykernel)",
   "language": "python",
   "name": "python3"
  },
  "language_info": {
   "codemirror_mode": {
    "name": "ipython",
    "version": 3
   },
   "file_extension": ".py",
   "mimetype": "text/x-python",
   "name": "python",
   "nbconvert_exporter": "python",
   "pygments_lexer": "ipython3",
   "version": "3.13.5"
  }
 },
 "nbformat": 4,
 "nbformat_minor": 5
}
