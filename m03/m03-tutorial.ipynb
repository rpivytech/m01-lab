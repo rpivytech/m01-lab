{
 "cells": [
  {
   "cell_type": "code",
   "execution_count": 5,
   "id": "1cf9655d-52e2-470d-8c4c-f052b40b5e94",
   "metadata": {},
   "outputs": [
    {
     "name": "stdout",
     "output_type": "stream",
     "text": [
      "[0, 0, 1, 1, 2, 2, 3, 3, 3]\n"
     ]
    }
   ],
   "source": [
    "array = [0, 1, 2, 3, 0, 1, 2, 3, 3] #has 3 to show it's powerful and can handle more numbers.\n",
    "\n",
    "class Solution: #I honestly forgot this part\n",
    "    def sortArray(sortMe): #This has a different name because this function does more than just sort 0/1/2\n",
    "        newList = []    \n",
    "        arrayLength = len(sortMe)\n",
    "        \n",
    "        newArray = list(set(sortMe))\n",
    "        #print(newArray) debug only\n",
    "        newDict = dict.fromkeys(newArray, 0)\n",
    "        \n",
    "        dictLength = len(newDict)\n",
    "        #print(newDict) debug only\n",
    "    \n",
    "        arrayCounter = 0\n",
    "        dictCounter = 0\n",
    "        \n",
    "        for arrayCounter in range(arrayLength):\n",
    "            if sortMe[arrayCounter] in newDict:\n",
    "                temp = newDict.get(sortMe[arrayCounter])\n",
    "                temp += 1\n",
    "                newDict[sortMe[arrayCounter]] = temp\n",
    "                #print(temp) debug only\n",
    "            \n",
    "        #print(newDict) debug only\n",
    "    \n",
    "        for dictCounter in range(dictLength):\n",
    "            keyValue = newDict.get(dictCounter)\n",
    "            i = 0\n",
    "            for i in range(keyValue):\n",
    "                newList.append(dictCounter)\n",
    "    \n",
    "        return newList\n",
    "                \n",
    "if __name__ == \"__main__\":\n",
    "    sortedArray = Solution.sortArray(array) #fixed this\n",
    "    print(sortedArray)"
   ]
  },
  {
   "cell_type": "code",
   "execution_count": 13,
   "id": "7a19a78f-a645-44ac-85c0-e3e85fa725b9",
   "metadata": {},
   "outputs": [
    {
     "name": "stdout",
     "output_type": "stream",
     "text": [
      "[1, 7, 6, 0, 6, 5, 3, 6, 5, 5, 10, 3, 0]\n",
      "Seems like I need to try and find 3 in the list...\n",
      "Found 3 at Index: 6 !\n",
      "found at index 6\n"
     ]
    }
   ],
   "source": [
    "import random\n",
    "\n",
    "class Solution:\n",
    "    def makeSomeNumbers(howMany):\n",
    "        array = [] # local var\n",
    "        i = 0\n",
    "        for i in range(howMany):\n",
    "            n = random.randint(0,10) # constrain so we get results\n",
    "            array.append(n)\n",
    "        findMe = int(random.randint(0,10))\n",
    "        print(array)\n",
    "        return array, findMe\n",
    "        \n",
    "    def findTheNumber(numberSet, findThis):\n",
    "        # findNum = lambda num: sum([int(x) for x in list(numberSet)])\n",
    "        # That doesnt work and I'm sure lambda could be used, but it's a lot easier\n",
    "        # to just use a for or while loop.\n",
    "    \n",
    "        # Also I know the output can be cleaner with a composite string, it's just\n",
    "        # not really worth it for just this\n",
    "        i = 0\n",
    "        maxedOut = len(numberSet) # We can use this later!\n",
    "        foundSome = bool(False)\n",
    "        while foundSome == False: # Simply remove this while statement and the break statement in the for loop to get all indices of occurrence!\n",
    "            for i in range(maxedOut):\n",
    "                if numberSet[i] == findThis:\n",
    "                    print(\"Found\", findThis, \"at Index:\", i, \"!\")\n",
    "                    foundSome = True\n",
    "                    break # Remove this one\n",
    "            if foundSome == False:\n",
    "                print(\"Sorry boss, didn't find\", findThis, \"...\")\n",
    "                break\n",
    "\n",
    "    def binarySearch(numberSet, findThis):\n",
    "        numberSet = numberSet\n",
    "        findThis = findThis\n",
    "        low = 0\n",
    "        mid = 0\n",
    "        high = (len(numberSet) - 1)\n",
    "\n",
    "        while low <= high: \n",
    "            mid = (low + high) // 2\n",
    "\n",
    "            if numberSet[mid] == findThis:\n",
    "                return mid\n",
    "\n",
    "            if numberSet[mid] < findThis:\n",
    "                low = mid + 1\n",
    "            else:\n",
    "                high = mid - 1\n",
    "\n",
    "        return -1\n",
    "        \n",
    "\n",
    "if __name__ == \"__main__\":\n",
    "    numToMake = random.randint(5,20) # we do a random amount for fun\n",
    "    ourNumbers, numToFind = Solution.makeSomeNumbers(numToMake)\n",
    "    print(\"Seems like I need to try and find\", numToFind, \"in the list...\")\n",
    "    Solution.findTheNumber(ourNumbers, numToFind)\n",
    "    result = Solution.binarySearch(ourNumbers, numToFind)\n",
    "    if result != -1:\n",
    "        print(\"found at index\", result)\n",
    "    else:\n",
    "        print(\"didn't find it\")\n"
   ]
  },
  {
   "cell_type": "code",
   "execution_count": null,
   "id": "692da96c-95be-4eeb-9520-4aab28343e74",
   "metadata": {},
   "outputs": [],
   "source": []
  }
 ],
 "metadata": {
  "kernelspec": {
   "display_name": "Python 3 (ipykernel)",
   "language": "python",
   "name": "python3"
  },
  "language_info": {
   "codemirror_mode": {
    "name": "ipython",
    "version": 3
   },
   "file_extension": ".py",
   "mimetype": "text/x-python",
   "name": "python",
   "nbconvert_exporter": "python",
   "pygments_lexer": "ipython3",
   "version": "3.13.5"
  }
 },
 "nbformat": 4,
 "nbformat_minor": 5
}
