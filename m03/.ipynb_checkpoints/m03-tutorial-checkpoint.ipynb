{
 "cells": [
  {
   "cell_type": "code",
   "execution_count": 127,
   "id": "1cf9655d-52e2-470d-8c4c-f052b40b5e94",
   "metadata": {},
   "outputs": [
    {
     "name": "stdout",
     "output_type": "stream",
     "text": [
      "[0, 1, 2, 3]\n",
      "{0: 0, 1: 0, 2: 0, 3: 0}\n",
      "1\n",
      "1\n",
      "1\n",
      "1\n",
      "2\n",
      "2\n",
      "2\n",
      "2\n",
      "3\n",
      "{0: 2, 1: 2, 2: 2, 3: 3}\n",
      "[0, 0, 1, 1, 2, 2, 3, 3, 3]\n"
     ]
    }
   ],
   "source": [
    "array = [0, 1, 2, 3, 0, 1, 2, 3, 3]\n",
    "\n",
    "def sortArray(sortMe):\n",
    "\n",
    "    newList = []    \n",
    "    arrayLength = len(sortMe)\n",
    "    \n",
    "    newArray = list(set(sortMe))\n",
    "    print(newArray)\n",
    "    newDict = dict.fromkeys(newArray, 0)\n",
    "    \n",
    "    dictLength = len(newDict)\n",
    "    print(newDict)\n",
    "\n",
    "    arrayCounter = 0\n",
    "    dictCounter = 0\n",
    "    \n",
    "    for arrayCounter in range(arrayLength):\n",
    "        if sortMe[arrayCounter] in newDict:\n",
    "            temp = newDict.get(sortMe[arrayCounter])\n",
    "            temp += 1\n",
    "            newDict[sortMe[arrayCounter]] = temp\n",
    "            print(temp)\n",
    "        \n",
    "    print(newDict)\n",
    "\n",
    "    for dictCounter in range(dictLength):\n",
    "        keyValue = newDict.get(dictCounter)\n",
    "        i = 0\n",
    "        for i in range(keyValue):\n",
    "            newList.append(dictCounter)\n",
    "\n",
    "    print(newList)\n",
    "        \n",
    "                \n",
    "if __name__ == \"__main__\":\n",
    "    sortArray(array)"
   ]
  },
  {
   "cell_type": "code",
   "execution_count": 89,
   "id": "7a19a78f-a645-44ac-85c0-e3e85fa725b9",
   "metadata": {},
   "outputs": [
    {
     "name": "stdout",
     "output_type": "stream",
     "text": [
      "[6, 3, 6, 6, 3, 3, 3, 9, 8, 3]\n",
      "Seems like I need to try and find 7 in the list...\n",
      "Sorry boss, didn't find 7 ...\n"
     ]
    }
   ],
   "source": [
    "import random\n",
    "\n",
    "def makeSomeNumbers(howMany):\n",
    "    array = [] # local var\n",
    "    i = 0\n",
    "    for i in range(howMany):\n",
    "        n = random.randint(0,10) # constrain so we get results\n",
    "        array.append(n)\n",
    "    findMe = int(random.randint(0,10))\n",
    "    print(array)\n",
    "    return array, findMe\n",
    "    \n",
    "\n",
    "def findTheNumber(numberSet, findThis):\n",
    "    # findNum = lambda num: sum([int(x) for x in list(numberSet)])\n",
    "    # That doesnt work and I'm sure lambda could be used, but it's a lot easier\n",
    "    # to just use a for or while loop.\n",
    "\n",
    "    # Also I know the output can be cleaner with a composite string, it's just\n",
    "    # not really worth it for just this\n",
    "    i = 0\n",
    "    maxedOut = len(numberSet) # We can use this later!\n",
    "    foundSome = bool(False)\n",
    "    while foundSome == False: # Simply remove this while statement and the break statement in the for loop to get all indices of occurrence!\n",
    "        for i in range(maxedOut):\n",
    "            if numberSet[i] == findThis:\n",
    "                print(\"Found\", findThis, \"at Index:\", i, \"!\")\n",
    "                foundSome = True\n",
    "                break # Remove this one\n",
    "        if foundSome == False:\n",
    "            print(\"Sorry boss, didn't find\", findThis, \"...\")\n",
    "            break\n",
    "        \n",
    "\n",
    "if __name__ == \"__main__\":\n",
    "    numToMake = random.randint(5,20) # we do a random amount for fun\n",
    "    ourNumbers, numToFind = makeSomeNumbers(numToMake)\n",
    "    print(\"Seems like I need to try and find\", numToFind, \"in the list...\")\n",
    "    findTheNumber(ourNumbers, numToFind)\n"
   ]
  },
  {
   "cell_type": "code",
   "execution_count": null,
   "id": "692da96c-95be-4eeb-9520-4aab28343e74",
   "metadata": {},
   "outputs": [],
   "source": []
  }
 ],
 "metadata": {
  "kernelspec": {
   "display_name": "Python 3 (ipykernel)",
   "language": "python",
   "name": "python3"
  },
  "language_info": {
   "codemirror_mode": {
    "name": "ipython",
    "version": 3
   },
   "file_extension": ".py",
   "mimetype": "text/x-python",
   "name": "python",
   "nbconvert_exporter": "python",
   "pygments_lexer": "ipython3",
   "version": "3.13.5"
  }
 },
 "nbformat": 4,
 "nbformat_minor": 5
}
