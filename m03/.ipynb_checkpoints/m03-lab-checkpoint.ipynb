{
 "cells": [
  {
   "cell_type": "code",
   "execution_count": 10,
   "id": "6b0259fb-0009-431e-9469-dea43876f567",
   "metadata": {},
   "outputs": [
    {
     "name": "stdin",
     "output_type": "stream",
     "text": [
      "What type of vehicle do you use? SUV\n",
      "What year is your car? 2017\n",
      "What make is your car? Subaru\n",
      "What model is your car? Outback\n",
      "How many doors does your car have? 4\n",
      "What kind of roof does your car have? Sun roof\n"
     ]
    },
    {
     "name": "stdout",
     "output_type": "stream",
     "text": [
      "Car type: SUV \n",
      "Year: 2017 \n",
      "Make: Subaru \n",
      "Model: Outback \n",
      "No. of Doors: 4 \n",
      "Roof Type: Sun roof\n"
     ]
    }
   ],
   "source": [
    "'''\n",
    "Riley Poulin\n",
    "09/12/2025\n",
    "Car classes\n",
    "This program builds a car variable made of the Vehicle superclass and the Automobile subclass\n",
    "'''\n",
    "\n",
    "baseType = str('')\n",
    "year = str('')\n",
    "make = str('')\n",
    "model = str('')\n",
    "doors = str('')\n",
    "roof = str('')\n",
    "\n",
    "class Vehicle():\n",
    "    def __init__(self, vtype):\n",
    "        self.type = vtype\n",
    "\n",
    "class Automobile(Vehicle):\n",
    "    def __init__(self, vtype, year, make, model, doors, roof):\n",
    "        super().__init__(vtype)\n",
    "        self.year = year\n",
    "        self.make = make\n",
    "        self.model = model\n",
    "        self.doors = doors\n",
    "        self.roof = roof\n",
    "    def __str__(self):\n",
    "        print(\"Car type:\", self.type, \"\\nYear:\", self.year, \"\\nMake:\", self.make, \"\\nModel:\", self.model, \"\\nNo. of Doors:\", self.doors, \"\\nRoof Type:\", self.roof)\n",
    "\n",
    "baseType = str(input(\"What type of vehicle do you use?\"))\n",
    "year = input(\"What year is your car?\")\n",
    "make = input(\"What make is your car?\")\n",
    "model = input(\"What model is your car?\")\n",
    "doors = input(\"How many doors does your car have?\")\n",
    "roof = input(\"What kind of roof does your car have?\")\n",
    "yourCar = Automobile(baseType, year, make, model, doors, roof)\n",
    "yourCar.__str__()\n"
   ]
  },
  {
   "cell_type": "code",
   "execution_count": null,
   "id": "fa0d8077-e446-4946-9f72-2189f8e51a6a",
   "metadata": {},
   "outputs": [],
   "source": []
  }
 ],
 "metadata": {
  "kernelspec": {
   "display_name": "Python 3 (ipykernel)",
   "language": "python",
   "name": "python3"
  },
  "language_info": {
   "codemirror_mode": {
    "name": "ipython",
    "version": 3
   },
   "file_extension": ".py",
   "mimetype": "text/x-python",
   "name": "python",
   "nbconvert_exporter": "python",
   "pygments_lexer": "ipython3",
   "version": "3.13.5"
  }
 },
 "nbformat": 4,
 "nbformat_minor": 5
}
