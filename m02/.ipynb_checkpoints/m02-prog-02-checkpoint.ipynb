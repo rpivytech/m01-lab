{
 "cells": [
  {
   "cell_type": "code",
   "execution_count": 1,
   "id": "cd28ed9a-ad10-44c8-b5b6-b36ebd071330",
   "metadata": {},
   "outputs": [
    {
     "name": "stdout",
     "output_type": "stream",
     "text": [
      "3\n",
      "2\n",
      "1\n",
      "0\n",
      "too low\n",
      "too low\n",
      "too low\n",
      "too low\n",
      "too low\n",
      "too low\n",
      "found it!\n",
      "too low (for)\n",
      "too low (for)\n",
      "too low (for)\n",
      "too low (for)\n",
      "too low (for)\n",
      "found it! (for)\n"
     ]
    }
   ],
   "source": [
    "firstList = [3, 2, 1, 0]\n",
    "\n",
    "guess_me = int(7)\n",
    "number = int(1)\n",
    "weLoop = bool(True)\n",
    "i = 0\n",
    "\n",
    "for i in range(len(firstList)):\n",
    "    print(firstList[i])\n",
    "\n",
    "while weLoop == True:\n",
    "    if number < guess_me:\n",
    "        print(\"too low\")\n",
    "    elif number == guess_me:\n",
    "        print(\"found it!\")\n",
    "        weLoop = False\n",
    "    elif number > guess_me:\n",
    "        print(\"oops\")\n",
    "        weLoop = False\n",
    "    number = number + 1\n",
    "\n",
    "number = 1\n",
    "guess_me = 5\n",
    "for number in range(10):\n",
    "    if number < guess_me:\n",
    "        print(\"too low (for)\")\n",
    "    elif number == guess_me:\n",
    "        print(\"found it! (for)\")\n",
    "        break\n",
    "    elif number > guess_me:\n",
    "        print(\"oops (for)\")\n",
    "        break"
   ]
  },
  {
   "cell_type": "code",
   "execution_count": null,
   "id": "79a44112-891d-4467-9bd5-9436be461321",
   "metadata": {},
   "outputs": [],
   "source": []
  }
 ],
 "metadata": {
  "kernelspec": {
   "display_name": "Python 3 (ipykernel)",
   "language": "python",
   "name": "python3"
  },
  "language_info": {
   "codemirror_mode": {
    "name": "ipython",
    "version": 3
   },
   "file_extension": ".py",
   "mimetype": "text/x-python",
   "name": "python",
   "nbconvert_exporter": "python",
   "pygments_lexer": "ipython3",
   "version": "3.13.5"
  }
 },
 "nbformat": 4,
 "nbformat_minor": 5
}
