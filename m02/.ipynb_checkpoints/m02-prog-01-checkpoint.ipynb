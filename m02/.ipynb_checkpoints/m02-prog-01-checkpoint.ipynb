{
 "cells": [
  {
   "cell_type": "code",
   "execution_count": 1,
   "id": "006881eb-3446-49b7-b20d-bda4494fc2ac",
   "metadata": {},
   "outputs": [
    {
     "name": "stdin",
     "output_type": "stream",
     "text": [
      "Please enter a 1 to play number game, enter 2 to do produce thing, or 3 to quit:  1\n",
      "Enter your guess (1-10), or enter 100 to return to mode select. 7\n"
     ]
    },
    {
     "name": "stdout",
     "output_type": "stream",
     "text": [
      "Guess too low!\n"
     ]
    },
    {
     "name": "stdin",
     "output_type": "stream",
     "text": [
      "Enter your guess (1-10), or enter 100 to return to mode select. 0\n"
     ]
    },
    {
     "name": "stdout",
     "output_type": "stream",
     "text": [
      "Guess too low!\n"
     ]
    },
    {
     "name": "stdin",
     "output_type": "stream",
     "text": [
      "Enter your guess (1-10), or enter 100 to return to mode select. 10\n"
     ]
    },
    {
     "name": "stdout",
     "output_type": "stream",
     "text": [
      "Correct guess! Enter 100 to return to mode select, or enter 1 to play again.\n"
     ]
    },
    {
     "name": "stdin",
     "output_type": "stream",
     "text": [
      " 1\n",
      "Enter your guess (1-10), or enter 100 to return to mode select. 6\n"
     ]
    },
    {
     "name": "stdout",
     "output_type": "stream",
     "text": [
      "Guess too low!\n"
     ]
    },
    {
     "name": "stdin",
     "output_type": "stream",
     "text": [
      "Enter your guess (1-10), or enter 100 to return to mode select. 9\n"
     ]
    },
    {
     "name": "stdout",
     "output_type": "stream",
     "text": [
      "Guess too high!\n"
     ]
    },
    {
     "name": "stdin",
     "output_type": "stream",
     "text": [
      "Enter your guess (1-10), or enter 100 to return to mode select. 8\n"
     ]
    },
    {
     "name": "stdout",
     "output_type": "stream",
     "text": [
      "Correct guess! Enter 100 to return to mode select, or enter 1 to play again.\n"
     ]
    },
    {
     "name": "stdin",
     "output_type": "stream",
     "text": [
      " 100\n",
      "Please enter a 1 to play number game, enter 2 to do produce thing, or 3 to quit:  2\n"
     ]
    },
    {
     "name": "stdout",
     "output_type": "stream",
     "text": [
      "Cherry is it small? True is it green? True\n",
      "Pea is it small? True is it green? True\n",
      "Watermelon is it small? True is it green? True\n",
      "Pumpkin is it small? True is it green? True\n"
     ]
    },
    {
     "name": "stdin",
     "output_type": "stream",
     "text": [
      "Please enter a 1 to play number game, enter 2 to do produce thing, or 3 to quit:  3\n"
     ]
    }
   ],
   "source": [
    "import random\n",
    "\n",
    "secret = random.randint(1,10)\n",
    "guess = int(0)\n",
    "chooseMode = int(0)\n",
    "doStuff = bool(True)\n",
    "small = bool(True)\n",
    "green = bool(True)\n",
    "produce = [\"Cherry\",\"Pea\",\"Watermelon\",\"Pumpkin\"]\n",
    "\n",
    "while doStuff == True:\n",
    "    chooseMode = int(input(\"Please enter a 1 to play number game, enter 2 to do produce thing, or 3 to quit: \"))\n",
    "    while chooseMode == 1 and guess != 100:\n",
    "        # 4.1\n",
    "        guess = int(input(\"Enter your guess (1-10), or enter 100 to return to mode select.\"))\n",
    "        if guess > secret:\n",
    "            print(\"Guess too high!\")\n",
    "        elif guess < secret:\n",
    "            print(\"Guess too low!\")\n",
    "        elif guess == secret:\n",
    "            print(\"Correct guess! Enter 100 to return to mode select, or enter 1 to play again.\")\n",
    "            guess = int(input())\n",
    "            if guess == 1:\n",
    "                secret = random.randint(1,10)\n",
    "            elif guess == 100:\n",
    "                chooseMode = 0\n",
    "    if chooseMode == 2:\n",
    "        # 4.2\n",
    "        # This one is kind of confusing exactly what is being asked of us to do, so I'm just going to try and interpret it.\n",
    "        i = int(0)\n",
    "        for i in range (4):\n",
    "            if produce[i] == \"cherry\":\n",
    "                small = bool(True)\n",
    "                green = bool(False)\n",
    "            elif produce[i] == \"pea\":\n",
    "                small = bool(True)\n",
    "                green = bool(True)\n",
    "            elif produce[i] == \"watermelon\":\n",
    "                small = bool(False)\n",
    "                green = bool(True)\n",
    "            elif produce[i] == \"pumpkin\":\n",
    "                small = bool(False)\n",
    "                green = bool(False)\n",
    "            print(produce[i], \"is it small?\", small, \"is it green?\", green)\n",
    "    if chooseMode == 3:\n",
    "        doStuff = False\n",
    "            \n",
    "        "
   ]
  },
  {
   "cell_type": "code",
   "execution_count": 1,
   "id": "54a73f95-19af-4205-b551-30d7698c392b",
   "metadata": {},
   "outputs": [
    {
     "name": "stdout",
     "output_type": "stream",
     "text": [
      "3\n",
      "2\n",
      "1\n",
      "0\n",
      "too low\n",
      "too low\n",
      "too low\n",
      "too low\n",
      "too low\n",
      "too low\n",
      "found it!\n",
      "too low (for)\n",
      "too low (for)\n",
      "too low (for)\n",
      "too low (for)\n",
      "too low (for)\n",
      "found it! (for)\n"
     ]
    }
   ],
   "source": [
    "firstList = [3, 2, 1, 0]\n",
    "\n",
    "guess_me = int(7)\n",
    "number = int(1)\n",
    "weLoop = bool(True)\n",
    "i = 0\n",
    "\n",
    "for i in range(len(firstList)):\n",
    "    print(firstList[i])\n",
    "\n",
    "while weLoop == True:\n",
    "    if number < guess_me:\n",
    "        print(\"too low\")\n",
    "    elif number == guess_me:\n",
    "        print(\"found it!\")\n",
    "        weLoop = False\n",
    "    elif number > guess_me:\n",
    "        print(\"oops\")\n",
    "        weLoop = False\n",
    "    number = number + 1\n",
    "\n",
    "number = 1\n",
    "guess_me = 5\n",
    "for number in range(10):\n",
    "    if number < guess_me:\n",
    "        print(\"too low (for)\")\n",
    "    elif number == guess_me:\n",
    "        print(\"found it! (for)\")\n",
    "        break\n",
    "    elif number > guess_me:\n",
    "        print(\"oops (for)\")\n",
    "        break"
   ]
  },
  {
   "cell_type": "code",
   "execution_count": null,
   "id": "818ef3c5-fad9-4c0b-af66-57591615ba9f",
   "metadata": {},
   "outputs": [],
   "source": []
  }
 ],
 "metadata": {
  "kernelspec": {
   "display_name": "Python 3 (ipykernel)",
   "language": "python",
   "name": "python3"
  },
  "language_info": {
   "codemirror_mode": {
    "name": "ipython",
    "version": 3
   },
   "file_extension": ".py",
   "mimetype": "text/x-python",
   "name": "python",
   "nbconvert_exporter": "python",
   "pygments_lexer": "ipython3",
   "version": "3.13.5"
  }
 },
 "nbformat": 4,
 "nbformat_minor": 5
}
